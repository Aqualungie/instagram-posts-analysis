{
 "cells": [
  {
   "cell_type": "markdown",
   "metadata": {},
   "source": [
    "# Scraping Instagram"
   ]
  },
  {
   "cell_type": "code",
   "execution_count": 1,
   "metadata": {},
   "outputs": [],
   "source": [
    "import instaloader\n",
    "import pandas as pd\n",
    "from datetime import datetime, timedelta\n",
    "import re"
   ]
  },
  {
   "cell_type": "code",
   "execution_count": 2,
   "metadata": {},
   "outputs": [],
   "source": [
    "def get_posts_info(username):\n",
    "    L = instaloader.Instaloader()\n",
    "    profile = instaloader.Profile.from_username(L.context, username)\n",
    "\n",
    "    posts_info = []\n",
    "    \n",
    "    current_date = datetime.now()\n",
    "    # Chossing the time period to scrape\n",
    "    until_date = current_date - timedelta(days=30)\n",
    "\n",
    "    for post in profile.get_posts():\n",
    "        if post.date >= until_date:\n",
    "            \n",
    "            if post.caption is not None and post.caption.strip() != '':\n",
    "                \n",
    "                hashtags = re.findall(r'#(\\w+)', post.caption)\n",
    "            else:\n",
    "                hashtags = []\n",
    "            post_info = {\n",
    "                'username': username,\n",
    "                'likes': post.likes,\n",
    "                'comments': post.comments,\n",
    "                'text': post.caption,\n",
    "                'hashtags': hashtags,\n",
    "                'date': post.date\n",
    "            }\n",
    "            posts_info.append(post_info)\n",
    "        else:\n",
    "            break  \n",
    "\n",
    "    return posts_info\n"
   ]
  },
  {
   "cell_type": "code",
   "execution_count": 3,
   "metadata": {},
   "outputs": [],
   "source": [
    "def save_to_csv(posts_info, filename):\n",
    "    df = pd.DataFrame(posts_info)\n",
    "    df.to_csv(filename, index=False)"
   ]
  },
  {
   "cell_type": "code",
   "execution_count": 4,
   "metadata": {},
   "outputs": [],
   "source": [
    "# Exemplo of usernames:\n",
    "usernames = ['companhiadasletras', 'editoraaleph', 'editorasuma', 'darksidebooks', 'harpercollinsbrasil', 'editorawish']  \n",
    "# it's best to scrape at most 5 profiles at a time\n",
    "filename = \"igposts.csv\""
   ]
  },
  {
   "cell_type": "code",
   "execution_count": 5,
   "metadata": {},
   "outputs": [],
   "source": [
    "all_posts_info = []\n",
    "for username in usernames:\n",
    "    posts_info = get_posts_info(username)\n",
    "    all_posts_info.extend(posts_info)\n",
    "\n",
    "save_to_csv(all_posts_info, filename)\n"
   ]
  },
  {
   "cell_type": "code",
   "execution_count": null,
   "metadata": {},
   "outputs": [],
   "source": []
  },
  {
   "cell_type": "code",
   "execution_count": null,
   "metadata": {},
   "outputs": [],
   "source": []
  }
 ],
 "metadata": {
  "kernelspec": {
   "display_name": "base",
   "language": "python",
   "name": "python3"
  },
  "language_info": {
   "codemirror_mode": {
    "name": "ipython",
    "version": 3
   },
   "file_extension": ".py",
   "mimetype": "text/x-python",
   "name": "python",
   "nbconvert_exporter": "python",
   "pygments_lexer": "ipython3",
   "version": "3.11.5"
  }
 },
 "nbformat": 4,
 "nbformat_minor": 2
}
